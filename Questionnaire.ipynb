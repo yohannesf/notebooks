{
    "cells": [
        {
            "cell_type": "code",
            "execution_count": 1,
            "metadata": {},
            "outputs": [
                {
                    "name": "stdout",
                    "output_type": "stream",
                    "text": "Waiting for a Spark session to start...\nSpark Initialization Done! ApplicationId = app-20200825121959-0000\nKERNEL_ID = 80a946a3-4ae2-4c3f-965b-1872515b414b\n"
                },
                {
                    "data": {
                        "text/plain": "[Row(Timestamp='8/4/2020 18:57:05', Sex='Male', Age='35-40', Education='PhD', Years of experience Experience (in years): ='11-20', Please indicate your: Organization='Academic', What is your current position title in your organization?  ='Assistant professor ', Increases  Banks shareholders\ufffd confidence in financial reporting ='4', Increases the confident  of new investors  to buy the bank\ufffds shares  as the result of  the financial reporting ='3', Leads to more deposit flow into the bank  ='3', Increases the QE efficiency ='3', Enhances cooperate governance  ='4', Enhances  the implementation of  Ethiopian National Bank rules and regulations    ='1', Solve the problems of preparation of financial reporting in Banks ='4', Increases the level of financial reporting and disclosures ='5', Improves the quality of financial reporting and disclosures ='5', Enhances corporate financial performance and position ='3', Reduces preparation cost of financial reporting ='3', Increases the relevance of financial reporting to users of financial statements='4', Further comments19=None, The convergence to IFRS may lead to a contradiction with Ethiopian banking laws and corporate responsibility ='3', The financial information prepared under IFRS may lead to misunderstood by users of financial statements='2', IFRS are complicated and difficult to understand ='3', A lack of adequate knowledge and experience may lead to IFRS being used wrongly ='4', Academic institutes have not paid attention to IFRS in their accounting programmes ='4', The Ethiopian  business environment and banking system   is not ready for convergence with IFRS ='3',  The implementation of IFRS is very costly='4', Further Comments27=None),\n Row(Timestamp='8/7/2020 11:53:49', Sex='Male', Age='35-40', Education='Masters', Years of experience Experience (in years): ='11-20', Please indicate your: Organization='Banks', What is your current position title in your organization?  ='Manager', Increases  Banks shareholders\ufffd confidence in financial reporting ='4', Increases the confident  of new investors  to buy the bank\ufffds shares  as the result of  the financial reporting ='4', Leads to more deposit flow into the bank  ='3', Increases the QE efficiency ='3', Enhances cooperate governance  ='5', Enhances  the implementation of  Ethiopian National Bank rules and regulations    ='3', Solve the problems of preparation of financial reporting in Banks ='3', Increases the level of financial reporting and disclosures ='5', Improves the quality of financial reporting and disclosures ='5', Enhances corporate financial performance and position ='5', Reduces preparation cost of financial reporting ='2', Increases the relevance of financial reporting to users of financial statements='5', Further comments19=None, The convergence to IFRS may lead to a contradiction with Ethiopian banking laws and corporate responsibility ='3', The financial information prepared under IFRS may lead to misunderstood by users of financial statements='3', IFRS are complicated and difficult to understand ='3', A lack of adequate knowledge and experience may lead to IFRS being used wrongly ='3', Academic institutes have not paid attention to IFRS in their accounting programmes ='5', The Ethiopian  business environment and banking system   is not ready for convergence with IFRS ='3',  The implementation of IFRS is very costly='5', Further Comments27=None),\n Row(Timestamp='8/7/2020 17:09:08', Sex='Male', Age='30-35', Education='Masters', Years of experience Experience (in years): ='11-20', Please indicate your: Organization='Banks', What is your current position title in your organization?  =None, Increases  Banks shareholders\ufffd confidence in financial reporting ='4', Increases the confident  of new investors  to buy the bank\ufffds shares  as the result of  the financial reporting ='5', Leads to more deposit flow into the bank  ='1', Increases the QE efficiency ='2', Enhances cooperate governance  ='4', Enhances  the implementation of  Ethiopian National Bank rules and regulations    ='4', Solve the problems of preparation of financial reporting in Banks ='2', Increases the level of financial reporting and disclosures ='5', Improves the quality of financial reporting and disclosures ='4', Enhances corporate financial performance and position ='2', Reduces preparation cost of financial reporting ='1', Increases the relevance of financial reporting to users of financial statements='4', Further comments19=None, The convergence to IFRS may lead to a contradiction with Ethiopian banking laws and corporate responsibility ='4', The financial information prepared under IFRS may lead to misunderstood by users of financial statements='1', IFRS are complicated and difficult to understand ='2', A lack of adequate knowledge and experience may lead to IFRS being used wrongly ='5', Academic institutes have not paid attention to IFRS in their accounting programmes ='4', The Ethiopian  business environment and banking system   is not ready for convergence with IFRS ='2',  The implementation of IFRS is very costly='5', Further Comments27=None),\n Row(Timestamp='8/7/2020 20:43:20', Sex='Male', Age='35-40', Education='BA/BSC', Years of experience Experience (in years): ='11-20', Please indicate your: Organization='Banks', What is your current position title in your organization?  ='Director: Finance and Accounts Department', Increases  Banks shareholders\ufffd confidence in financial reporting ='4', Increases the confident  of new investors  to buy the bank\ufffds shares  as the result of  the financial reporting ='4', Leads to more deposit flow into the bank  ='3', Increases the QE efficiency ='4', Enhances cooperate governance  ='5', Enhances  the implementation of  Ethiopian National Bank rules and regulations    ='4', Solve the problems of preparation of financial reporting in Banks ='3', Increases the level of financial reporting and disclosures ='5', Improves the quality of financial reporting and disclosures ='5', Enhances corporate financial performance and position ='4', Reduces preparation cost of financial reporting ='1', Increases the relevance of financial reporting to users of financial statements='5', Further comments19=None, The convergence to IFRS may lead to a contradiction with Ethiopian banking laws and corporate responsibility ='4', The financial information prepared under IFRS may lead to misunderstood by users of financial statements='4', IFRS are complicated and difficult to understand ='3', A lack of adequate knowledge and experience may lead to IFRS being used wrongly ='5', Academic institutes have not paid attention to IFRS in their accounting programmes ='5', The Ethiopian  business environment and banking system   is not ready for convergence with IFRS ='3',  The implementation of IFRS is very costly='5', Further Comments27=None),\n Row(Timestamp='8/8/2020 9:50:47', Sex='Male', Age='30-35', Education='BA/BSC', Years of experience Experience (in years): ='11-20', Please indicate your: Organization='Banks', What is your current position title in your organization?  ='Senior Manager Financial Reporting', Increases  Banks shareholders\ufffd confidence in financial reporting ='4', Increases the confident  of new investors  to buy the bank\ufffds shares  as the result of  the financial reporting ='4', Leads to more deposit flow into the bank  ='3', Increases the QE efficiency ='4', Enhances cooperate governance  ='4', Enhances  the implementation of  Ethiopian National Bank rules and regulations    ='3', Solve the problems of preparation of financial reporting in Banks ='4', Increases the level of financial reporting and disclosures ='5', Improves the quality of financial reporting and disclosures ='5', Enhances corporate financial performance and position ='3', Reduces preparation cost of financial reporting ='2', Increases the relevance of financial reporting to users of financial statements='5', Further comments19=None, The convergence to IFRS may lead to a contradiction with Ethiopian banking laws and corporate responsibility ='3', The financial information prepared under IFRS may lead to misunderstood by users of financial statements='4', IFRS are complicated and difficult to understand ='4', A lack of adequate knowledge and experience may lead to IFRS being used wrongly ='4', Academic institutes have not paid attention to IFRS in their accounting programmes ='4', The Ethiopian  business environment and banking system   is not ready for convergence with IFRS ='3',  The implementation of IFRS is very costly='3', Further Comments27=None)]"
                    },
                    "execution_count": 1,
                    "metadata": {},
                    "output_type": "execute_result"
                }
            ],
            "source": "# The code was removed by Watson Studio for sharing."
        },
        {
            "cell_type": "code",
            "execution_count": null,
            "metadata": {},
            "outputs": [],
            "source": ""
        }
    ],
    "metadata": {
        "kernelspec": {
            "display_name": "Python 3.6 with Spark",
            "language": "python3",
            "name": "python36"
        },
        "language_info": {
            "codemirror_mode": {
                "name": "ipython",
                "version": 3
            },
            "file_extension": ".py",
            "mimetype": "text/x-python",
            "name": "python",
            "nbconvert_exporter": "python",
            "pygments_lexer": "ipython3",
            "version": "3.6.8"
        }
    },
    "nbformat": 4,
    "nbformat_minor": 1
}